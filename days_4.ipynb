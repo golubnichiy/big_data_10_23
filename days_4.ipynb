{
 "cells": [
  {
   "cell_type": "markdown",
   "metadata": {},
   "source": [
    "### Подключение пакетов и загрузка данных"
   ]
  },
  {
   "cell_type": "code",
   "execution_count": 44,
   "metadata": {},
   "outputs": [
    {
     "name": "stdout",
     "output_type": "stream",
     "text": [
      "    pregnancies  glucose  diastolic  triceps  insulin   bmi    dpf  age  \\\n",
      "3             1       89         66       23       94  28.1  0.167   21   \n",
      "4             0      137         40       35      168  43.1  2.288   33   \n",
      "6             3       78         50       32       88  31.0  0.248   26   \n",
      "8             2      197         70       45      543  30.5  0.158   53   \n",
      "13            1      189         60       23      846  30.1  0.398   59   \n",
      "\n",
      "    diabetes  \n",
      "3          0  \n",
      "4          1  \n",
      "6          1  \n",
      "8          1  \n",
      "13         1  \n"
     ]
    }
   ],
   "source": [
    "import pandas as pd\n",
    "import numpy as np\n",
    "diabetes_df = pd.read_csv(\"diabetes_clean.csv\")\n",
    "diabetes_df = diabetes_df[diabetes_df[\"bmi\"] > 0]\n",
    "diabetes_df = diabetes_df[diabetes_df[\"glucose\"] > 0]\n",
    "diabetes_df = diabetes_df[diabetes_df[\"insulin\"] > 0]\n",
    "print(diabetes_df.head())"
   ]
  },
  {
   "cell_type": "markdown",
   "metadata": {},
   "source": [
    "### Разбивка на целевую переменную и массив признаков"
   ]
  },
  {
   "cell_type": "code",
   "execution_count": 31,
   "metadata": {},
   "outputs": [],
   "source": [
    "X = diabetes_df.drop(\"glucose\", axis=1).values\n",
    "y = diabetes_df[\"glucose\"]"
   ]
  },
  {
   "cell_type": "markdown",
   "metadata": {},
   "source": [
    "### Предсказание по одной переменной"
   ]
  },
  {
   "cell_type": "code",
   "execution_count": 32,
   "metadata": {},
   "outputs": [
    {
     "name": "stdout",
     "output_type": "stream",
     "text": [
      "(392,) (392,)\n",
      "[28.1 43.1 31.  30.5 30.1 25.8 45.8 43.3 34.6 39.3 36.6 31.1 23.2 22.2\n",
      " 31.6 24.8 24.  37.1 34.  45.4 19.4 24.2 24.4 33.7 34.7 37.7 46.8 41.5\n",
      " 25.4 19.6 28.9 32.9 28.6 35.1 29.3 32.4 38.5 37.1 32.  46.7 24.7 33.9\n",
      " 20.4 28.7 49.7 26.6 28.7 29.5 34.3 37.4 33.3 34.  31.2 30.5 23.2 53.2\n",
      " 33.6 55.  42.9 33.3 34.5 29.7 34.5 21.1 33.8 30.8 28.7 36.9 32.5 32.8\n",
      " 30.5 37.4 34.3 40.6 24.6 25.2 29.  40.9 37.2 44.2 29.9 28.4 35.4 43.5\n",
      " 29.7 32.7 67.1 34.9 30.1 32.  27.9 31.6 33.1 39.4 22.9 34.8 30.9 20.4\n",
      " 37.7 37.5 33.2 42.6 34.2 41.8 35.8 30.  34.6 28.8 23.6 34.6 36.7 45.2\n",
      " 46.2 25.4 29.7 35.9 33.1 27.1 38.2 52.3 35.4 24.4 27.6 25.9 33.3 30.9\n",
      " 33.6 25.2 33.2 40.5 27.8 25.3 35.9 32.4 26.  38.7 45.6 20.8 36.1 36.9\n",
      " 36.6 43.3 40.5 35.5 28.  30.7 36.6 31.6 35.8 39.7 25.5 24.8 30.5 32.9\n",
      " 39.4 26.6 29.5 34.1 19.3 38.1 27.5 26.8 25.6 35.1 45.5 30.8 32.7 23.9\n",
      " 47.9 34.2 25.9 25.9 38.5 28.7 21.8 27.2 33.3 35.3 36.5 31.2 34.9 34.\n",
      " 27.5 32.8 38.4 35.8 34.9 36.2 39.2 25.2 37.2 43.4 30.8 25.4 25.1 24.3\n",
      " 22.3 32.  31.6 32.  23.7 22.1 27.7 24.7 35.  42.1 42.4 34.4 42.4 26.2\n",
      " 34.6 35.7 26.4 45.3 26.  40.6 42.9 37.  34.1 40.6 35.  30.4 30.  32.2\n",
      " 33.2 59.4 25.3 36.5 33.6 30.5 21.2 39.9 37.8 30.2 37.6 25.9 20.8 35.3\n",
      " 21.8 27.8 36.8 46.1 33.7 23.8 25.9 35.5 27.8 38.2 42.3 40.7 46.5 36.8\n",
      " 28.9 30.1 25.1 29.3 25.2 33.3 36.5 28.6 30.4 22.1 25.6 31.6 30.3 19.6\n",
      " 25.  33.2 18.2 26.3 30.8 29.8 41.3 33.3 36.3 36.4 39.4 32.4 39.5 32.\n",
      " 34.5 43.6 33.1 32.8 31.9 29.9 36.9 25.5 41.3 37.6 26.9 26.1 38.6 32.\n",
      " 31.3 34.3 29.5 34.7 30.1 35.5 24.  28.7 33.3 39.4 28.5 33.6 32.  27.8\n",
      " 23.1 35.2 40.  19.5 41.5 24.  30.9 32.9 38.2 36.1 20.1 38.4 43.5 37.7\n",
      " 34.5 27.5 31.6 40.9 19.5 29.3 27.6 39.4 23.4 37.8 28.3 25.2 33.8 34.1\n",
      " 34.2 38.7 21.8 38.9 34.2 37.6 37.9 34.8 34.  30.9 33.6 35.5 57.3 24.2\n",
      " 24.2 44.6 33.2 24.1 46.1 39.1 38.5 30.4 29.9 34.5 35.9 28.4 34.4 38.\n",
      " 31.2 29.6 26.4 33.9 33.8 35.5 38.1 29.3 39.1 36.1 28.4 44.5 29.  27.4\n",
      " 36.6 42.3 30.8 28.5 40.6 30.  46.3 36.4 39.  43.3 36.5 28.4 32.9 26.2]\n"
     ]
    }
   ],
   "source": [
    "X_bmi = X[:, 4]\n",
    "print(y.shape, X_bmi.shape)\n",
    "print(X_bmi)"
   ]
  },
  {
   "cell_type": "code",
   "execution_count": 33,
   "metadata": {},
   "outputs": [
    {
     "name": "stdout",
     "output_type": "stream",
     "text": [
      "(392, 1)\n",
      "[[28.1]\n",
      " [43.1]\n",
      " [31. ]\n",
      " [30.5]\n",
      " [30.1]\n",
      " [25.8]\n",
      " [45.8]\n",
      " [43.3]\n",
      " [34.6]\n",
      " [39.3]\n",
      " [36.6]\n",
      " [31.1]\n",
      " [23.2]\n",
      " [22.2]\n",
      " [31.6]\n",
      " [24.8]\n",
      " [24. ]\n",
      " [37.1]\n",
      " [34. ]\n",
      " [45.4]\n",
      " [19.4]\n",
      " [24.2]\n",
      " [24.4]\n",
      " [33.7]\n",
      " [34.7]\n",
      " [37.7]\n",
      " [46.8]\n",
      " [41.5]\n",
      " [25.4]\n",
      " [19.6]\n",
      " [28.9]\n",
      " [32.9]\n",
      " [28.6]\n",
      " [35.1]\n",
      " [29.3]\n",
      " [32.4]\n",
      " [38.5]\n",
      " [37.1]\n",
      " [32. ]\n",
      " [46.7]\n",
      " [24.7]\n",
      " [33.9]\n",
      " [20.4]\n",
      " [28.7]\n",
      " [49.7]\n",
      " [26.6]\n",
      " [28.7]\n",
      " [29.5]\n",
      " [34.3]\n",
      " [37.4]\n",
      " [33.3]\n",
      " [34. ]\n",
      " [31.2]\n",
      " [30.5]\n",
      " [23.2]\n",
      " [53.2]\n",
      " [33.6]\n",
      " [55. ]\n",
      " [42.9]\n",
      " [33.3]\n",
      " [34.5]\n",
      " [29.7]\n",
      " [34.5]\n",
      " [21.1]\n",
      " [33.8]\n",
      " [30.8]\n",
      " [28.7]\n",
      " [36.9]\n",
      " [32.5]\n",
      " [32.8]\n",
      " [30.5]\n",
      " [37.4]\n",
      " [34.3]\n",
      " [40.6]\n",
      " [24.6]\n",
      " [25.2]\n",
      " [29. ]\n",
      " [40.9]\n",
      " [37.2]\n",
      " [44.2]\n",
      " [29.9]\n",
      " [28.4]\n",
      " [35.4]\n",
      " [43.5]\n",
      " [29.7]\n",
      " [32.7]\n",
      " [67.1]\n",
      " [34.9]\n",
      " [30.1]\n",
      " [32. ]\n",
      " [27.9]\n",
      " [31.6]\n",
      " [33.1]\n",
      " [39.4]\n",
      " [22.9]\n",
      " [34.8]\n",
      " [30.9]\n",
      " [20.4]\n",
      " [37.7]\n",
      " [37.5]\n",
      " [33.2]\n",
      " [42.6]\n",
      " [34.2]\n",
      " [41.8]\n",
      " [35.8]\n",
      " [30. ]\n",
      " [34.6]\n",
      " [28.8]\n",
      " [23.6]\n",
      " [34.6]\n",
      " [36.7]\n",
      " [45.2]\n",
      " [46.2]\n",
      " [25.4]\n",
      " [29.7]\n",
      " [35.9]\n",
      " [33.1]\n",
      " [27.1]\n",
      " [38.2]\n",
      " [52.3]\n",
      " [35.4]\n",
      " [24.4]\n",
      " [27.6]\n",
      " [25.9]\n",
      " [33.3]\n",
      " [30.9]\n",
      " [33.6]\n",
      " [25.2]\n",
      " [33.2]\n",
      " [40.5]\n",
      " [27.8]\n",
      " [25.3]\n",
      " [35.9]\n",
      " [32.4]\n",
      " [26. ]\n",
      " [38.7]\n",
      " [45.6]\n",
      " [20.8]\n",
      " [36.1]\n",
      " [36.9]\n",
      " [36.6]\n",
      " [43.3]\n",
      " [40.5]\n",
      " [35.5]\n",
      " [28. ]\n",
      " [30.7]\n",
      " [36.6]\n",
      " [31.6]\n",
      " [35.8]\n",
      " [39.7]\n",
      " [25.5]\n",
      " [24.8]\n",
      " [30.5]\n",
      " [32.9]\n",
      " [39.4]\n",
      " [26.6]\n",
      " [29.5]\n",
      " [34.1]\n",
      " [19.3]\n",
      " [38.1]\n",
      " [27.5]\n",
      " [26.8]\n",
      " [25.6]\n",
      " [35.1]\n",
      " [45.5]\n",
      " [30.8]\n",
      " [32.7]\n",
      " [23.9]\n",
      " [47.9]\n",
      " [34.2]\n",
      " [25.9]\n",
      " [25.9]\n",
      " [38.5]\n",
      " [28.7]\n",
      " [21.8]\n",
      " [27.2]\n",
      " [33.3]\n",
      " [35.3]\n",
      " [36.5]\n",
      " [31.2]\n",
      " [34.9]\n",
      " [34. ]\n",
      " [27.5]\n",
      " [32.8]\n",
      " [38.4]\n",
      " [35.8]\n",
      " [34.9]\n",
      " [36.2]\n",
      " [39.2]\n",
      " [25.2]\n",
      " [37.2]\n",
      " [43.4]\n",
      " [30.8]\n",
      " [25.4]\n",
      " [25.1]\n",
      " [24.3]\n",
      " [22.3]\n",
      " [32. ]\n",
      " [31.6]\n",
      " [32. ]\n",
      " [23.7]\n",
      " [22.1]\n",
      " [27.7]\n",
      " [24.7]\n",
      " [35. ]\n",
      " [42.1]\n",
      " [42.4]\n",
      " [34.4]\n",
      " [42.4]\n",
      " [26.2]\n",
      " [34.6]\n",
      " [35.7]\n",
      " [26.4]\n",
      " [45.3]\n",
      " [26. ]\n",
      " [40.6]\n",
      " [42.9]\n",
      " [37. ]\n",
      " [34.1]\n",
      " [40.6]\n",
      " [35. ]\n",
      " [30.4]\n",
      " [30. ]\n",
      " [32.2]\n",
      " [33.2]\n",
      " [59.4]\n",
      " [25.3]\n",
      " [36.5]\n",
      " [33.6]\n",
      " [30.5]\n",
      " [21.2]\n",
      " [39.9]\n",
      " [37.8]\n",
      " [30.2]\n",
      " [37.6]\n",
      " [25.9]\n",
      " [20.8]\n",
      " [35.3]\n",
      " [21.8]\n",
      " [27.8]\n",
      " [36.8]\n",
      " [46.1]\n",
      " [33.7]\n",
      " [23.8]\n",
      " [25.9]\n",
      " [35.5]\n",
      " [27.8]\n",
      " [38.2]\n",
      " [42.3]\n",
      " [40.7]\n",
      " [46.5]\n",
      " [36.8]\n",
      " [28.9]\n",
      " [30.1]\n",
      " [25.1]\n",
      " [29.3]\n",
      " [25.2]\n",
      " [33.3]\n",
      " [36.5]\n",
      " [28.6]\n",
      " [30.4]\n",
      " [22.1]\n",
      " [25.6]\n",
      " [31.6]\n",
      " [30.3]\n",
      " [19.6]\n",
      " [25. ]\n",
      " [33.2]\n",
      " [18.2]\n",
      " [26.3]\n",
      " [30.8]\n",
      " [29.8]\n",
      " [41.3]\n",
      " [33.3]\n",
      " [36.3]\n",
      " [36.4]\n",
      " [39.4]\n",
      " [32.4]\n",
      " [39.5]\n",
      " [32. ]\n",
      " [34.5]\n",
      " [43.6]\n",
      " [33.1]\n",
      " [32.8]\n",
      " [31.9]\n",
      " [29.9]\n",
      " [36.9]\n",
      " [25.5]\n",
      " [41.3]\n",
      " [37.6]\n",
      " [26.9]\n",
      " [26.1]\n",
      " [38.6]\n",
      " [32. ]\n",
      " [31.3]\n",
      " [34.3]\n",
      " [29.5]\n",
      " [34.7]\n",
      " [30.1]\n",
      " [35.5]\n",
      " [24. ]\n",
      " [28.7]\n",
      " [33.3]\n",
      " [39.4]\n",
      " [28.5]\n",
      " [33.6]\n",
      " [32. ]\n",
      " [27.8]\n",
      " [23.1]\n",
      " [35.2]\n",
      " [40. ]\n",
      " [19.5]\n",
      " [41.5]\n",
      " [24. ]\n",
      " [30.9]\n",
      " [32.9]\n",
      " [38.2]\n",
      " [36.1]\n",
      " [20.1]\n",
      " [38.4]\n",
      " [43.5]\n",
      " [37.7]\n",
      " [34.5]\n",
      " [27.5]\n",
      " [31.6]\n",
      " [40.9]\n",
      " [19.5]\n",
      " [29.3]\n",
      " [27.6]\n",
      " [39.4]\n",
      " [23.4]\n",
      " [37.8]\n",
      " [28.3]\n",
      " [25.2]\n",
      " [33.8]\n",
      " [34.1]\n",
      " [34.2]\n",
      " [38.7]\n",
      " [21.8]\n",
      " [38.9]\n",
      " [34.2]\n",
      " [37.6]\n",
      " [37.9]\n",
      " [34.8]\n",
      " [34. ]\n",
      " [30.9]\n",
      " [33.6]\n",
      " [35.5]\n",
      " [57.3]\n",
      " [24.2]\n",
      " [24.2]\n",
      " [44.6]\n",
      " [33.2]\n",
      " [24.1]\n",
      " [46.1]\n",
      " [39.1]\n",
      " [38.5]\n",
      " [30.4]\n",
      " [29.9]\n",
      " [34.5]\n",
      " [35.9]\n",
      " [28.4]\n",
      " [34.4]\n",
      " [38. ]\n",
      " [31.2]\n",
      " [29.6]\n",
      " [26.4]\n",
      " [33.9]\n",
      " [33.8]\n",
      " [35.5]\n",
      " [38.1]\n",
      " [29.3]\n",
      " [39.1]\n",
      " [36.1]\n",
      " [28.4]\n",
      " [44.5]\n",
      " [29. ]\n",
      " [27.4]\n",
      " [36.6]\n",
      " [42.3]\n",
      " [30.8]\n",
      " [28.5]\n",
      " [40.6]\n",
      " [30. ]\n",
      " [46.3]\n",
      " [36.4]\n",
      " [39. ]\n",
      " [43.3]\n",
      " [36.5]\n",
      " [28.4]\n",
      " [32.9]\n",
      " [26.2]]\n"
     ]
    }
   ],
   "source": [
    "X_bmi = X_bmi.reshape(-1,1)\n",
    "print(X_bmi.shape)\n",
    "print(X_bmi)"
   ]
  },
  {
   "cell_type": "markdown",
   "metadata": {},
   "source": [
    "### Просмотр данных (глюкоза / ИМТ)"
   ]
  },
  {
   "cell_type": "code",
   "execution_count": 34,
   "metadata": {},
   "outputs": [
    {
     "data": {
      "image/png": "[encoded data removed]",
      "text/plain": [
       "<Figure size 640x480 with 1 Axes>"
      ]
     },
     "metadata": {},
     "output_type": "display_data"
    }
   ],
   "source": [
    "import matplotlib.pyplot as plt\n",
    "plt.scatter(X_bmi, y)\n",
    "plt.ylabel(\"Уровень глюкозы в крови\")\n",
    "plt.xlabel(\"BMI\")\n",
    "plt.show()"
   ]
  },
  {
   "cell_type": "markdown",
   "metadata": {},
   "source": [
    " ### Создание и обучение модели"
   ]
  },
  {
   "cell_type": "code",
   "execution_count": 35,
   "metadata": {},
   "outputs": [
    {
     "data": {
      "image/png": "[encoded data removed]",
      "text/plain": [
       "<Figure size 640x480 with 1 Axes>"
      ]
     },
     "metadata": {},
     "output_type": "display_data"
    }
   ],
   "source": [
    "from sklearn.linear_model import LinearRegression\n",
    "reg = LinearRegression()\n",
    "reg.fit(X_bmi, y)\n",
    "predictions = reg.predict(X_bmi)\n",
    "plt.scatter(X_bmi, y)\n",
    "plt.plot(X_bmi, predictions)\n",
    "plt.ylabel(\"Уровень глюкозы в крови\")\n",
    "plt.xlabel(\"BMI\")\n",
    "plt.show()"
   ]
  },
  {
   "cell_type": "markdown",
   "metadata": {},
   "source": [
    "### Линейная регрессия для множества признаков"
   ]
  },
  {
   "cell_type": "code",
   "execution_count": 36,
   "metadata": {},
   "outputs": [],
   "source": [
    "from sklearn.model_selection import train_test_split\n",
    "from sklearn.linear_model import LinearRegression\n",
    "X_train, X_test, y_train, y_test = train_test_split(X, y, test_size = 0.3, random_state = 42)\n",
    "reg_all = LinearRegression()\n",
    "reg_all.fit(X_train, y_train)\n",
    "y_pred = reg_all.predict(X_test)"
   ]
  },
  {
   "cell_type": "markdown",
   "metadata": {},
   "source": [
    "### Оценка R-квадрат"
   ]
  },
  {
   "cell_type": "code",
   "execution_count": 37,
   "metadata": {},
   "outputs": [
    {
     "data": {
      "text/plain": [
       "0.5094667868757332"
      ]
     },
     "execution_count": 37,
     "metadata": {},
     "output_type": "execute_result"
    }
   ],
   "source": [
    "reg_all.score(X_test, y_test)"
   ]
  },
  {
   "cell_type": "markdown",
   "metadata": {},
   "source": [
    "### RMSE"
   ]
  },
  {
   "cell_type": "code",
   "execution_count": 38,
   "metadata": {},
   "outputs": [
    {
     "data": {
      "text/plain": [
       "22.14632133316733"
      ]
     },
     "execution_count": 38,
     "metadata": {},
     "output_type": "execute_result"
    }
   ],
   "source": [
    "from sklearn.metrics import mean_squared_error\n",
    "mean_squared_error(y_test, y_pred, squared=False)"
   ]
  },
  {
   "cell_type": "markdown",
   "metadata": {},
   "source": [
    "### Кроссвалидация"
   ]
  },
  {
   "cell_type": "code",
   "execution_count": 41,
   "metadata": {},
   "outputs": [],
   "source": [
    "from sklearn.model_selection import cross_val_score, KFold\n",
    "kf = KFold(n_splits = 6, shuffle=True, random_state=42)\n",
    "reg = LinearRegression()\n",
    "cv_results = cross_val_score(reg, X, y, cv = kf)"
   ]
  },
  {
   "cell_type": "code",
   "execution_count": 42,
   "metadata": {},
   "outputs": [
    {
     "name": "stdout",
     "output_type": "stream",
     "text": [
      "[0.56229699 0.44614407 0.21983567 0.45936666 0.48559491 0.49500658]\n"
     ]
    }
   ],
   "source": [
    "print(cv_results)"
   ]
  },
  {
   "cell_type": "code",
   "execution_count": 45,
   "metadata": {},
   "outputs": [
    {
     "name": "stdout",
     "output_type": "stream",
     "text": [
      "0.44470747876343325 0.1070929205920518\n"
     ]
    }
   ],
   "source": [
    "print(np.mean(cv_results), np.std(cv_results))"
   ]
  },
  {
   "cell_type": "code",
   "execution_count": 48,
   "metadata": {},
   "outputs": [
    {
     "name": "stdout",
     "output_type": "stream",
     "text": [
      "[0.24812422 0.55388569]\n"
     ]
    }
   ],
   "source": [
    "print(np.quantile(cv_results, [0.025, 0.975]))"
   ]
  },
  {
   "cell_type": "markdown",
   "metadata": {},
   "source": [
    "### Гребневая регрессия"
   ]
  },
  {
   "cell_type": "code",
   "execution_count": 49,
   "metadata": {},
   "outputs": [
    {
     "name": "stdout",
     "output_type": "stream",
     "text": [
      "[0.509576405884622, 0.510493224165769, 0.5148218853400626, 0.49261795851053347, 0.4588698098088013]\n"
     ]
    }
   ],
   "source": [
    "from sklearn.linear_model import Ridge\n",
    "scores = []\n",
    "for alpha in [0.1, 1.0, 10.0, 100.0, 1000.0]:\n",
    "    ridge = Ridge(alpha=alpha)\n",
    "    ridge.fit(X_train, y_train)\n",
    "    y_pred = ridge.predict(X_test)\n",
    "    scores.append(ridge.score(X_test, y_test))\n",
    "print(scores)"
   ]
  },
  {
   "cell_type": "markdown",
   "metadata": {},
   "source": [
    "### Лассо регерссия"
   ]
  },
  {
   "cell_type": "code",
   "execution_count": 50,
   "metadata": {},
   "outputs": [
    {
     "name": "stdout",
     "output_type": "stream",
     "text": [
      "[0.5096772969868644, 0.5111484584535526, 0.514524365485503, 0.44260019941345585, 0.4312044757453073, 0.38888803499352564]\n"
     ]
    }
   ],
   "source": [
    "from sklearn.linear_model import Lasso\n",
    "scores = []\n",
    "for alpha in [0.01, 0.1, 1.0, 10.0, 20.0, 50.0]:\n",
    "    lasso = Lasso(alpha=alpha)\n",
    "    lasso.fit(X_train, y_train)\n",
    "    y_pred = lasso.predict(X_test)\n",
    "    scores.append(lasso.score(X_test, y_test))\n",
    "print(scores)"
   ]
  },
  {
   "cell_type": "code",
   "execution_count": 56,
   "metadata": {},
   "outputs": [
    {
     "data": {
      "image/png": "[encoded data removed]",
      "text/plain": [
       "<Figure size 640x480 with 1 Axes>"
      ]
     },
     "metadata": {},
     "output_type": "display_data"
    }
   ],
   "source": [
    "from sklearn.linear_model import Lasso\n",
    "X = diabetes_df.drop(\"glucose\", axis=1).values\n",
    "y = diabetes_df[\"glucose\"]\n",
    "names = diabetes_df.drop(\"glucose\", axis=1).columns\n",
    "lasso = Lasso(alpha=0.1)\n",
    "lasso_coef = lasso.fit(X, y).coef_\n",
    "plt.bar(names, lasso_coef)\n",
    "plt.xticks(rotation=45)\n",
    "plt.show()"
   ]
  }
 ],
 "metadata": {
  "kernelspec": {
   "display_name": "Python 3",
   "language": "python",
   "name": "python3"
  },
  "language_info": {
   "codemirror_mode": {
    "name": "ipython",
    "version": 3
   },
   "file_extension": ".py",
   "mimetype": "text/x-python",
   "name": "python",
   "nbconvert_exporter": "python",
   "pygments_lexer": "ipython3",
   "version": "3.11.5"
  },
  "orig_nbformat": 4
 },
 "nbformat": 4,
 "nbformat_minor": 2
}
