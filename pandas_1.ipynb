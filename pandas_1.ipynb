{
 "cells": [
  {
   "cell_type": "markdown",
   "metadata": {},
   "source": [
    "## Подключение pandas"
   ]
  },
  {
   "cell_type": "code",
   "execution_count": 2,
   "metadata": {},
   "outputs": [
    {
     "name": "stdout",
     "output_type": "stream",
     "text": [
      "    Name               Breed        Color  Height (cm)  Weight (kg)  \\\n",
      "0  Белла            Лабрадор   Шоколадный           60           30   \n",
      "1   Рекс             Бульдог      Палевый           40           25   \n",
      "2   Макс            Далматин  Черно-белый           55           20   \n",
      "3   Луна              Ши-тцу        Белый           25            5   \n",
      "4   Джек  Йоркширский терьер        Серый           20            3   \n",
      "\n",
      "  Date of Birth  \n",
      "0    2015-02-10  \n",
      "1    2018-06-05  \n",
      "2    2017-11-20  \n",
      "3    2019-04-15  \n",
      "4    2020-09-30  \n"
     ]
    }
   ],
   "source": [
    "import pandas as pd\n",
    "\n",
    "# Создаем словарь с данными о собаках\n",
    "data = {\n",
    "    'Name': ['Берни', 'Рекс', 'Макс', 'Луна', 'Джек'],\n",
    "    'Breed': ['Лабрадор', 'Бульдог', 'Далматин', 'Ши-тцу', 'Йоркширский терьер'],\n",
    "    'Color': ['Шоколадный', 'Палевый', 'Черно-белый', 'Белый', 'Серый'],\n",
    "    'Height (cm)': [60, 40, 55, 25, 20],\n",
    "    'Weight (kg)': [30, 25, 20, 5, 3],\n",
    "    'Date of Birth': ['2015-02-10', '2018-06-05', '2017-11-20', '2019-04-15', '2020-09-30']\n",
    "}\n",
    "\n",
    "# Создаем датафрейм из словаря\n",
    "df = pd.DataFrame(data)\n",
    "\n",
    "# Выводим датафрейм\n",
    "print(df)\n"
   ]
  }
 ],
 "metadata": {
  "kernelspec": {
   "display_name": "Python 3",
   "language": "python",
   "name": "python3"
  },
  "language_info": {
   "codemirror_mode": {
    "name": "ipython",
    "version": 3
   },
   "file_extension": ".py",
   "mimetype": "text/x-python",
   "name": "python",
   "nbconvert_exporter": "python",
   "pygments_lexer": "ipython3",
   "version": "3.11.5"
  },
  "orig_nbformat": 4
 },
 "nbformat": 4,
 "nbformat_minor": 2
}
