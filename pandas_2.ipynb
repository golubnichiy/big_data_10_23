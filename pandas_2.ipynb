{
 "cells": [
  {
   "cell_type": "code",
   "execution_count": 4,
   "metadata": {},
   "outputs": [
    {
     "name": "stdout",
     "output_type": "stream",
     "text": [
      "        stop_date stop_time  county_name driver_gender  driver_age_raw  \\\n",
      "0      2005-01-02     01:55          NaN             M          1985.0   \n",
      "1      2005-01-18     08:15          NaN             M          1965.0   \n",
      "2      2005-01-23     23:15          NaN             M          1972.0   \n",
      "3      2005-02-20     17:15          NaN             M          1986.0   \n",
      "4      2005-03-14     10:00          NaN             F          1984.0   \n",
      "...           ...       ...          ...           ...             ...   \n",
      "91736  2015-12-31     20:27          NaN             M          1986.0   \n",
      "91737  2015-12-31     20:35          NaN             F          1982.0   \n",
      "91738  2015-12-31     20:45          NaN             M          1992.0   \n",
      "91739  2015-12-31     21:42          NaN             M          1993.0   \n",
      "91740  2015-12-31     22:46          NaN             M          1959.0   \n",
      "\n",
      "       driver_age driver_race                   violation_raw  \\\n",
      "0            20.0       White                        Speeding   \n",
      "1            40.0       White                        Speeding   \n",
      "2            33.0       White                        Speeding   \n",
      "3            19.0       White                Call for Service   \n",
      "4            21.0       White                        Speeding   \n",
      "...           ...         ...                             ...   \n",
      "91736        29.0       White                        Speeding   \n",
      "91737        33.0       White  Equipment/Inspection Violation   \n",
      "91738        23.0       White         Other Traffic Violation   \n",
      "91739        22.0       White                        Speeding   \n",
      "91740        56.0    Hispanic                        Speeding   \n",
      "\n",
      "              violation  search_conducted search_type   stop_outcome  \\\n",
      "0              Speeding             False         NaN       Citation   \n",
      "1              Speeding             False         NaN       Citation   \n",
      "2              Speeding             False         NaN       Citation   \n",
      "3                 Other             False         NaN  Arrest Driver   \n",
      "4              Speeding             False         NaN       Citation   \n",
      "...                 ...               ...         ...            ...   \n",
      "91736          Speeding             False         NaN        Warning   \n",
      "91737         Equipment             False         NaN        Warning   \n",
      "91738  Moving violation             False         NaN        Warning   \n",
      "91739          Speeding             False         NaN       Citation   \n",
      "91740          Speeding             False         NaN       Citation   \n",
      "\n",
      "      is_arrested stop_duration  drugs_related_stop  \n",
      "0           False      0-15 Min               False  \n",
      "1           False      0-15 Min               False  \n",
      "2           False      0-15 Min               False  \n",
      "3            True     16-30 Min               False  \n",
      "4           False      0-15 Min               False  \n",
      "...           ...           ...                 ...  \n",
      "91736       False      0-15 Min               False  \n",
      "91737       False      0-15 Min               False  \n",
      "91738       False      0-15 Min               False  \n",
      "91739       False      0-15 Min               False  \n",
      "91740       False      0-15 Min               False  \n",
      "\n",
      "[91741 rows x 15 columns]\n"
     ]
    }
   ],
   "source": [
    "import pandas as pd\n",
    "data = pd.read_csv(\"/Users/artemgolubnichiy/Downloads/police.csv\")\n",
    "print(data)"
   ]
  }
 ],
 "metadata": {
  "kernelspec": {
   "display_name": "Python 3",
   "language": "python",
   "name": "python3"
  },
  "language_info": {
   "codemirror_mode": {
    "name": "ipython",
    "version": 3
   },
   "file_extension": ".py",
   "mimetype": "text/x-python",
   "name": "python",
   "nbconvert_exporter": "python",
   "pygments_lexer": "ipython3",
   "version": "3.11.5"
  },
  "orig_nbformat": 4
 },
 "nbformat": 4,
 "nbformat_minor": 2
}
